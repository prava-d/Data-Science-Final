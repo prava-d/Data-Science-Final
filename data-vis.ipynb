{
 "cells": [
  {
   "cell_type": "code",
   "execution_count": 2,
   "metadata": {
    "collapsed": false,
    "deletable": true,
    "editable": true
   },
   "outputs": [],
   "source": [
    "import numpy as np\n",
    "import pandas as pd\n",
    "import seaborn as sns\n",
    "import matplotlib.pyplot as plt\n",
    "import sklearn as sk"
   ]
  },
  {
   "cell_type": "code",
   "execution_count": 3,
   "metadata": {
    "collapsed": false,
    "deletable": true,
    "editable": true
   },
   "outputs": [],
   "source": [
    "train = pd.read_csv(\"./data/train.csv\")  \n",
    "test = pd.read_csv(\"./data/test.csv\")"
   ]
  },
  {
   "cell_type": "code",
   "execution_count": 34,
   "metadata": {
    "collapsed": false
   },
   "outputs": [
    {
     "data": {
      "text/plain": [
       "array(['tBodyAcc-mean()-X', 'tBodyAcc-mean()-Y', 'tBodyAcc-mean()-Z',\n",
       "       'tBodyAcc-std()-X', 'tBodyAcc-std()-Y', 'tBodyAcc-std()-Z',\n",
       "       'tBodyAcc-mad()-X', 'tBodyAcc-mad()-Y', 'tBodyAcc-mad()-Z',\n",
       "       'tBodyAcc-max()-X', 'tBodyAcc-max()-Y', 'tBodyAcc-max()-Z',\n",
       "       'tBodyAcc-min()-X', 'tBodyAcc-min()-Y', 'tBodyAcc-min()-Z',\n",
       "       'tBodyAcc-sma()', 'tBodyAcc-energy()-X', 'tBodyAcc-energy()-Y',\n",
       "       'tBodyAcc-energy()-Z', 'tBodyAcc-iqr()-X', 'tBodyAcc-iqr()-Y',\n",
       "       'tBodyAcc-iqr()-Z', 'tBodyAcc-entropy()-X', 'tBodyAcc-entropy()-Y',\n",
       "       'tBodyAcc-entropy()-Z', 'tBodyAcc-arCoeff()-X,1',\n",
       "       'tBodyAcc-arCoeff()-X,2', 'tBodyAcc-arCoeff()-X,3',\n",
       "       'tBodyAcc-arCoeff()-X,4', 'tBodyAcc-arCoeff()-Y,1',\n",
       "       'tBodyAcc-arCoeff()-Y,2', 'tBodyAcc-arCoeff()-Y,3',\n",
       "       'tBodyAcc-arCoeff()-Y,4', 'tBodyAcc-arCoeff()-Z,1',\n",
       "       'tBodyAcc-arCoeff()-Z,2', 'tBodyAcc-arCoeff()-Z,3',\n",
       "       'tBodyAcc-arCoeff()-Z,4', 'tBodyAcc-correlation()-X,Y',\n",
       "       'tBodyAcc-correlation()-X,Z', 'tBodyAcc-correlation()-Y,Z',\n",
       "       'tGravityAcc-mean()-X', 'tGravityAcc-mean()-Y',\n",
       "       'tGravityAcc-mean()-Z', 'tGravityAcc-std()-X',\n",
       "       'tGravityAcc-std()-Y', 'tGravityAcc-std()-Z',\n",
       "       'tGravityAcc-mad()-X', 'tGravityAcc-mad()-Y',\n",
       "       'tGravityAcc-mad()-Z', 'tGravityAcc-max()-X',\n",
       "       'tGravityAcc-max()-Y', 'tGravityAcc-max()-Z',\n",
       "       'tGravityAcc-min()-X', 'tGravityAcc-min()-Y',\n",
       "       'tGravityAcc-min()-Z', 'tGravityAcc-sma()',\n",
       "       'tGravityAcc-energy()-X', 'tGravityAcc-energy()-Y',\n",
       "       'tGravityAcc-energy()-Z', 'tGravityAcc-iqr()-X',\n",
       "       'tGravityAcc-iqr()-Y', 'tGravityAcc-iqr()-Z',\n",
       "       'tGravityAcc-entropy()-X', 'tGravityAcc-entropy()-Y',\n",
       "       'tGravityAcc-entropy()-Z', 'tGravityAcc-arCoeff()-X,1',\n",
       "       'tGravityAcc-arCoeff()-X,2', 'tGravityAcc-arCoeff()-X,3',\n",
       "       'tGravityAcc-arCoeff()-X,4', 'tGravityAcc-arCoeff()-Y,1',\n",
       "       'tGravityAcc-arCoeff()-Y,2', 'tGravityAcc-arCoeff()-Y,3',\n",
       "       'tGravityAcc-arCoeff()-Y,4', 'tGravityAcc-arCoeff()-Z,1',\n",
       "       'tGravityAcc-arCoeff()-Z,2', 'tGravityAcc-arCoeff()-Z,3',\n",
       "       'tGravityAcc-arCoeff()-Z,4', 'tGravityAcc-correlation()-X,Y',\n",
       "       'tGravityAcc-correlation()-X,Z', 'tGravityAcc-correlation()-Y,Z',\n",
       "       'tBodyAccJerk-mean()-X', 'tBodyAccJerk-mean()-Y',\n",
       "       'tBodyAccJerk-mean()-Z', 'tBodyAccJerk-std()-X',\n",
       "       'tBodyAccJerk-std()-Y', 'tBodyAccJerk-std()-Z',\n",
       "       'tBodyAccJerk-mad()-X', 'tBodyAccJerk-mad()-Y',\n",
       "       'tBodyAccJerk-mad()-Z', 'tBodyAccJerk-max()-X',\n",
       "       'tBodyAccJerk-max()-Y', 'tBodyAccJerk-max()-Z',\n",
       "       'tBodyAccJerk-min()-X', 'tBodyAccJerk-min()-Y',\n",
       "       'tBodyAccJerk-min()-Z', 'tBodyAccJerk-sma()',\n",
       "       'tBodyAccJerk-energy()-X', 'tBodyAccJerk-energy()-Y',\n",
       "       'tBodyAccJerk-energy()-Z', 'tBodyAccJerk-iqr()-X',\n",
       "       'tBodyAccJerk-iqr()-Y', 'tBodyAccJerk-iqr()-Z',\n",
       "       'tBodyAccJerk-entropy()-X', 'tBodyAccJerk-entropy()-Y',\n",
       "       'tBodyAccJerk-entropy()-Z', 'tBodyAccJerk-arCoeff()-X,1',\n",
       "       'tBodyAccJerk-arCoeff()-X,2', 'tBodyAccJerk-arCoeff()-X,3',\n",
       "       'tBodyAccJerk-arCoeff()-X,4', 'tBodyAccJerk-arCoeff()-Y,1',\n",
       "       'tBodyAccJerk-arCoeff()-Y,2', 'tBodyAccJerk-arCoeff()-Y,3',\n",
       "       'tBodyAccJerk-arCoeff()-Y,4', 'tBodyAccJerk-arCoeff()-Z,1',\n",
       "       'tBodyAccJerk-arCoeff()-Z,2', 'tBodyAccJerk-arCoeff()-Z,3',\n",
       "       'tBodyAccJerk-arCoeff()-Z,4', 'tBodyAccJerk-correlation()-X,Y',\n",
       "       'tBodyAccJerk-correlation()-X,Z', 'tBodyAccJerk-correlation()-Y,Z',\n",
       "       'tBodyGyro-mean()-X', 'tBodyGyro-mean()-Y', 'tBodyGyro-mean()-Z',\n",
       "       'tBodyGyro-std()-X', 'tBodyGyro-std()-Y', 'tBodyGyro-std()-Z',\n",
       "       'tBodyGyro-mad()-X', 'tBodyGyro-mad()-Y', 'tBodyGyro-mad()-Z',\n",
       "       'tBodyGyro-max()-X', 'tBodyGyro-max()-Y', 'tBodyGyro-max()-Z',\n",
       "       'tBodyGyro-min()-X', 'tBodyGyro-min()-Y', 'tBodyGyro-min()-Z',\n",
       "       'tBodyGyro-sma()', 'tBodyGyro-energy()-X', 'tBodyGyro-energy()-Y',\n",
       "       'tBodyGyro-energy()-Z', 'tBodyGyro-iqr()-X', 'tBodyGyro-iqr()-Y',\n",
       "       'tBodyGyro-iqr()-Z', 'tBodyGyro-entropy()-X',\n",
       "       'tBodyGyro-entropy()-Y', 'tBodyGyro-entropy()-Z',\n",
       "       'tBodyGyro-arCoeff()-X,1', 'tBodyGyro-arCoeff()-X,2',\n",
       "       'tBodyGyro-arCoeff()-X,3', 'tBodyGyro-arCoeff()-X,4',\n",
       "       'tBodyGyro-arCoeff()-Y,1', 'tBodyGyro-arCoeff()-Y,2',\n",
       "       'tBodyGyro-arCoeff()-Y,3', 'tBodyGyro-arCoeff()-Y,4',\n",
       "       'tBodyGyro-arCoeff()-Z,1', 'tBodyGyro-arCoeff()-Z,2',\n",
       "       'tBodyGyro-arCoeff()-Z,3', 'tBodyGyro-arCoeff()-Z,4',\n",
       "       'tBodyGyro-correlation()-X,Y', 'tBodyGyro-correlation()-X,Z',\n",
       "       'tBodyGyro-correlation()-Y,Z', 'tBodyGyroJerk-mean()-X',\n",
       "       'tBodyGyroJerk-mean()-Y', 'tBodyGyroJerk-mean()-Z',\n",
       "       'tBodyGyroJerk-std()-X', 'tBodyGyroJerk-std()-Y',\n",
       "       'tBodyGyroJerk-std()-Z', 'tBodyGyroJerk-mad()-X',\n",
       "       'tBodyGyroJerk-mad()-Y', 'tBodyGyroJerk-mad()-Z',\n",
       "       'tBodyGyroJerk-max()-X', 'tBodyGyroJerk-max()-Y',\n",
       "       'tBodyGyroJerk-max()-Z', 'tBodyGyroJerk-min()-X',\n",
       "       'tBodyGyroJerk-min()-Y', 'tBodyGyroJerk-min()-Z',\n",
       "       'tBodyGyroJerk-sma()', 'tBodyGyroJerk-energy()-X',\n",
       "       'tBodyGyroJerk-energy()-Y', 'tBodyGyroJerk-energy()-Z',\n",
       "       'tBodyGyroJerk-iqr()-X', 'tBodyGyroJerk-iqr()-Y',\n",
       "       'tBodyGyroJerk-iqr()-Z', 'tBodyGyroJerk-entropy()-X',\n",
       "       'tBodyGyroJerk-entropy()-Y', 'tBodyGyroJerk-entropy()-Z',\n",
       "       'tBodyGyroJerk-arCoeff()-X,1', 'tBodyGyroJerk-arCoeff()-X,2',\n",
       "       'tBodyGyroJerk-arCoeff()-X,3', 'tBodyGyroJerk-arCoeff()-X,4',\n",
       "       'tBodyGyroJerk-arCoeff()-Y,1', 'tBodyGyroJerk-arCoeff()-Y,2',\n",
       "       'tBodyGyroJerk-arCoeff()-Y,3', 'tBodyGyroJerk-arCoeff()-Y,4',\n",
       "       'tBodyGyroJerk-arCoeff()-Z,1', 'tBodyGyroJerk-arCoeff()-Z,2',\n",
       "       'tBodyGyroJerk-arCoeff()-Z,3', 'tBodyGyroJerk-arCoeff()-Z,4',\n",
       "       'tBodyGyroJerk-correlation()-X,Y',\n",
       "       'tBodyGyroJerk-correlation()-X,Z',\n",
       "       'tBodyGyroJerk-correlation()-Y,Z', 'tBodyAccMag-mean()',\n",
       "       'tBodyAccMag-std()', 'tBodyAccMag-mad()', 'tBodyAccMag-max()',\n",
       "       'tBodyAccMag-min()', 'tBodyAccMag-sma()', 'tBodyAccMag-energy()',\n",
       "       'tBodyAccMag-iqr()', 'tBodyAccMag-entropy()',\n",
       "       'tBodyAccMag-arCoeff()1', 'tBodyAccMag-arCoeff()2',\n",
       "       'tBodyAccMag-arCoeff()3', 'tBodyAccMag-arCoeff()4',\n",
       "       'tGravityAccMag-mean()', 'tGravityAccMag-std()',\n",
       "       'tGravityAccMag-mad()', 'tGravityAccMag-max()',\n",
       "       'tGravityAccMag-min()', 'tGravityAccMag-sma()',\n",
       "       'tGravityAccMag-energy()', 'tGravityAccMag-iqr()',\n",
       "       'tGravityAccMag-entropy()', 'tGravityAccMag-arCoeff()1',\n",
       "       'tGravityAccMag-arCoeff()2', 'tGravityAccMag-arCoeff()3',\n",
       "       'tGravityAccMag-arCoeff()4', 'tBodyAccJerkMag-mean()',\n",
       "       'tBodyAccJerkMag-std()', 'tBodyAccJerkMag-mad()',\n",
       "       'tBodyAccJerkMag-max()', 'tBodyAccJerkMag-min()',\n",
       "       'tBodyAccJerkMag-sma()', 'tBodyAccJerkMag-energy()',\n",
       "       'tBodyAccJerkMag-iqr()', 'tBodyAccJerkMag-entropy()',\n",
       "       'tBodyAccJerkMag-arCoeff()1', 'tBodyAccJerkMag-arCoeff()2',\n",
       "       'tBodyAccJerkMag-arCoeff()3', 'tBodyAccJerkMag-arCoeff()4',\n",
       "       'tBodyGyroMag-mean()', 'tBodyGyroMag-std()', 'tBodyGyroMag-mad()',\n",
       "       'tBodyGyroMag-max()', 'tBodyGyroMag-min()', 'tBodyGyroMag-sma()',\n",
       "       'tBodyGyroMag-energy()', 'tBodyGyroMag-iqr()',\n",
       "       'tBodyGyroMag-entropy()', 'tBodyGyroMag-arCoeff()1',\n",
       "       'tBodyGyroMag-arCoeff()2', 'tBodyGyroMag-arCoeff()3',\n",
       "       'tBodyGyroMag-arCoeff()4', 'tBodyGyroJerkMag-mean()',\n",
       "       'tBodyGyroJerkMag-std()', 'tBodyGyroJerkMag-mad()',\n",
       "       'tBodyGyroJerkMag-max()', 'tBodyGyroJerkMag-min()',\n",
       "       'tBodyGyroJerkMag-sma()', 'tBodyGyroJerkMag-energy()',\n",
       "       'tBodyGyroJerkMag-iqr()', 'tBodyGyroJerkMag-entropy()',\n",
       "       'tBodyGyroJerkMag-arCoeff()1', 'tBodyGyroJerkMag-arCoeff()2',\n",
       "       'tBodyGyroJerkMag-arCoeff()3', 'tBodyGyroJerkMag-arCoeff()4',\n",
       "       'fBodyAcc-mean()-X', 'fBodyAcc-mean()-Y', 'fBodyAcc-mean()-Z',\n",
       "       'fBodyAcc-std()-X', 'fBodyAcc-std()-Y', 'fBodyAcc-std()-Z',\n",
       "       'fBodyAcc-mad()-X', 'fBodyAcc-mad()-Y', 'fBodyAcc-mad()-Z',\n",
       "       'fBodyAcc-max()-X', 'fBodyAcc-max()-Y', 'fBodyAcc-max()-Z',\n",
       "       'fBodyAcc-min()-X', 'fBodyAcc-min()-Y', 'fBodyAcc-min()-Z',\n",
       "       'fBodyAcc-sma()', 'fBodyAcc-energy()-X', 'fBodyAcc-energy()-Y',\n",
       "       'fBodyAcc-energy()-Z', 'fBodyAcc-iqr()-X', 'fBodyAcc-iqr()-Y',\n",
       "       'fBodyAcc-iqr()-Z', 'fBodyAcc-entropy()-X', 'fBodyAcc-entropy()-Y',\n",
       "       'fBodyAcc-entropy()-Z', 'fBodyAcc-maxInds-X', 'fBodyAcc-maxInds-Y',\n",
       "       'fBodyAcc-maxInds-Z', 'fBodyAcc-meanFreq()-X',\n",
       "       'fBodyAcc-meanFreq()-Y', 'fBodyAcc-meanFreq()-Z',\n",
       "       'fBodyAcc-skewness()-X', 'fBodyAcc-kurtosis()-X',\n",
       "       'fBodyAcc-skewness()-Y', 'fBodyAcc-kurtosis()-Y',\n",
       "       'fBodyAcc-skewness()-Z', 'fBodyAcc-kurtosis()-Z',\n",
       "       'fBodyAcc-bandsEnergy()-1,8', 'fBodyAcc-bandsEnergy()-9,16',\n",
       "       'fBodyAcc-bandsEnergy()-17,24', 'fBodyAcc-bandsEnergy()-25,32',\n",
       "       'fBodyAcc-bandsEnergy()-33,40', 'fBodyAcc-bandsEnergy()-41,48',\n",
       "       'fBodyAcc-bandsEnergy()-49,56', 'fBodyAcc-bandsEnergy()-57,64',\n",
       "       'fBodyAcc-bandsEnergy()-1,16', 'fBodyAcc-bandsEnergy()-17,32',\n",
       "       'fBodyAcc-bandsEnergy()-33,48', 'fBodyAcc-bandsEnergy()-49,64',\n",
       "       'fBodyAcc-bandsEnergy()-1,24', 'fBodyAcc-bandsEnergy()-25,48',\n",
       "       'fBodyAcc-bandsEnergy()-1,8.1', 'fBodyAcc-bandsEnergy()-9,16.1',\n",
       "       'fBodyAcc-bandsEnergy()-17,24.1', 'fBodyAcc-bandsEnergy()-25,32.1',\n",
       "       'fBodyAcc-bandsEnergy()-33,40.1', 'fBodyAcc-bandsEnergy()-41,48.1',\n",
       "       'fBodyAcc-bandsEnergy()-49,56.1', 'fBodyAcc-bandsEnergy()-57,64.1',\n",
       "       'fBodyAcc-bandsEnergy()-1,16.1', 'fBodyAcc-bandsEnergy()-17,32.1',\n",
       "       'fBodyAcc-bandsEnergy()-33,48.1', 'fBodyAcc-bandsEnergy()-49,64.1',\n",
       "       'fBodyAcc-bandsEnergy()-1,24.1', 'fBodyAcc-bandsEnergy()-25,48.1',\n",
       "       'fBodyAcc-bandsEnergy()-1,8.2', 'fBodyAcc-bandsEnergy()-9,16.2',\n",
       "       'fBodyAcc-bandsEnergy()-17,24.2', 'fBodyAcc-bandsEnergy()-25,32.2',\n",
       "       'fBodyAcc-bandsEnergy()-33,40.2', 'fBodyAcc-bandsEnergy()-41,48.2',\n",
       "       'fBodyAcc-bandsEnergy()-49,56.2', 'fBodyAcc-bandsEnergy()-57,64.2',\n",
       "       'fBodyAcc-bandsEnergy()-1,16.2', 'fBodyAcc-bandsEnergy()-17,32.2',\n",
       "       'fBodyAcc-bandsEnergy()-33,48.2', 'fBodyAcc-bandsEnergy()-49,64.2',\n",
       "       'fBodyAcc-bandsEnergy()-1,24.2', 'fBodyAcc-bandsEnergy()-25,48.2',\n",
       "       'fBodyAccJerk-mean()-X', 'fBodyAccJerk-mean()-Y',\n",
       "       'fBodyAccJerk-mean()-Z', 'fBodyAccJerk-std()-X',\n",
       "       'fBodyAccJerk-std()-Y', 'fBodyAccJerk-std()-Z',\n",
       "       'fBodyAccJerk-mad()-X', 'fBodyAccJerk-mad()-Y',\n",
       "       'fBodyAccJerk-mad()-Z', 'fBodyAccJerk-max()-X',\n",
       "       'fBodyAccJerk-max()-Y', 'fBodyAccJerk-max()-Z',\n",
       "       'fBodyAccJerk-min()-X', 'fBodyAccJerk-min()-Y',\n",
       "       'fBodyAccJerk-min()-Z', 'fBodyAccJerk-sma()',\n",
       "       'fBodyAccJerk-energy()-X', 'fBodyAccJerk-energy()-Y',\n",
       "       'fBodyAccJerk-energy()-Z', 'fBodyAccJerk-iqr()-X',\n",
       "       'fBodyAccJerk-iqr()-Y', 'fBodyAccJerk-iqr()-Z',\n",
       "       'fBodyAccJerk-entropy()-X', 'fBodyAccJerk-entropy()-Y',\n",
       "       'fBodyAccJerk-entropy()-Z', 'fBodyAccJerk-maxInds-X',\n",
       "       'fBodyAccJerk-maxInds-Y', 'fBodyAccJerk-maxInds-Z',\n",
       "       'fBodyAccJerk-meanFreq()-X', 'fBodyAccJerk-meanFreq()-Y',\n",
       "       'fBodyAccJerk-meanFreq()-Z', 'fBodyAccJerk-skewness()-X',\n",
       "       'fBodyAccJerk-kurtosis()-X', 'fBodyAccJerk-skewness()-Y',\n",
       "       'fBodyAccJerk-kurtosis()-Y', 'fBodyAccJerk-skewness()-Z',\n",
       "       'fBodyAccJerk-kurtosis()-Z', 'fBodyAccJerk-bandsEnergy()-1,8',\n",
       "       'fBodyAccJerk-bandsEnergy()-9,16',\n",
       "       'fBodyAccJerk-bandsEnergy()-17,24',\n",
       "       'fBodyAccJerk-bandsEnergy()-25,32',\n",
       "       'fBodyAccJerk-bandsEnergy()-33,40',\n",
       "       'fBodyAccJerk-bandsEnergy()-41,48',\n",
       "       'fBodyAccJerk-bandsEnergy()-49,56',\n",
       "       'fBodyAccJerk-bandsEnergy()-57,64',\n",
       "       'fBodyAccJerk-bandsEnergy()-1,16',\n",
       "       'fBodyAccJerk-bandsEnergy()-17,32',\n",
       "       'fBodyAccJerk-bandsEnergy()-33,48',\n",
       "       'fBodyAccJerk-bandsEnergy()-49,64',\n",
       "       'fBodyAccJerk-bandsEnergy()-1,24',\n",
       "       'fBodyAccJerk-bandsEnergy()-25,48',\n",
       "       'fBodyAccJerk-bandsEnergy()-1,8.1',\n",
       "       'fBodyAccJerk-bandsEnergy()-9,16.1',\n",
       "       'fBodyAccJerk-bandsEnergy()-17,24.1',\n",
       "       'fBodyAccJerk-bandsEnergy()-25,32.1',\n",
       "       'fBodyAccJerk-bandsEnergy()-33,40.1',\n",
       "       'fBodyAccJerk-bandsEnergy()-41,48.1',\n",
       "       'fBodyAccJerk-bandsEnergy()-49,56.1',\n",
       "       'fBodyAccJerk-bandsEnergy()-57,64.1',\n",
       "       'fBodyAccJerk-bandsEnergy()-1,16.1',\n",
       "       'fBodyAccJerk-bandsEnergy()-17,32.1',\n",
       "       'fBodyAccJerk-bandsEnergy()-33,48.1',\n",
       "       'fBodyAccJerk-bandsEnergy()-49,64.1',\n",
       "       'fBodyAccJerk-bandsEnergy()-1,24.1',\n",
       "       'fBodyAccJerk-bandsEnergy()-25,48.1',\n",
       "       'fBodyAccJerk-bandsEnergy()-1,8.2',\n",
       "       'fBodyAccJerk-bandsEnergy()-9,16.2',\n",
       "       'fBodyAccJerk-bandsEnergy()-17,24.2',\n",
       "       'fBodyAccJerk-bandsEnergy()-25,32.2',\n",
       "       'fBodyAccJerk-bandsEnergy()-33,40.2',\n",
       "       'fBodyAccJerk-bandsEnergy()-41,48.2',\n",
       "       'fBodyAccJerk-bandsEnergy()-49,56.2',\n",
       "       'fBodyAccJerk-bandsEnergy()-57,64.2',\n",
       "       'fBodyAccJerk-bandsEnergy()-1,16.2',\n",
       "       'fBodyAccJerk-bandsEnergy()-17,32.2',\n",
       "       'fBodyAccJerk-bandsEnergy()-33,48.2',\n",
       "       'fBodyAccJerk-bandsEnergy()-49,64.2',\n",
       "       'fBodyAccJerk-bandsEnergy()-1,24.2',\n",
       "       'fBodyAccJerk-bandsEnergy()-25,48.2', 'fBodyGyro-mean()-X',\n",
       "       'fBodyGyro-mean()-Y', 'fBodyGyro-mean()-Z', 'fBodyGyro-std()-X',\n",
       "       'fBodyGyro-std()-Y', 'fBodyGyro-std()-Z', 'fBodyGyro-mad()-X',\n",
       "       'fBodyGyro-mad()-Y', 'fBodyGyro-mad()-Z', 'fBodyGyro-max()-X',\n",
       "       'fBodyGyro-max()-Y', 'fBodyGyro-max()-Z', 'fBodyGyro-min()-X',\n",
       "       'fBodyGyro-min()-Y', 'fBodyGyro-min()-Z', 'fBodyGyro-sma()',\n",
       "       'fBodyGyro-energy()-X', 'fBodyGyro-energy()-Y',\n",
       "       'fBodyGyro-energy()-Z', 'fBodyGyro-iqr()-X', 'fBodyGyro-iqr()-Y',\n",
       "       'fBodyGyro-iqr()-Z', 'fBodyGyro-entropy()-X',\n",
       "       'fBodyGyro-entropy()-Y', 'fBodyGyro-entropy()-Z',\n",
       "       'fBodyGyro-maxInds-X', 'fBodyGyro-maxInds-Y',\n",
       "       'fBodyGyro-maxInds-Z', 'fBodyGyro-meanFreq()-X',\n",
       "       'fBodyGyro-meanFreq()-Y', 'fBodyGyro-meanFreq()-Z',\n",
       "       'fBodyGyro-skewness()-X', 'fBodyGyro-kurtosis()-X',\n",
       "       'fBodyGyro-skewness()-Y', 'fBodyGyro-kurtosis()-Y',\n",
       "       'fBodyGyro-skewness()-Z', 'fBodyGyro-kurtosis()-Z',\n",
       "       'fBodyGyro-bandsEnergy()-1,8', 'fBodyGyro-bandsEnergy()-9,16',\n",
       "       'fBodyGyro-bandsEnergy()-17,24', 'fBodyGyro-bandsEnergy()-25,32',\n",
       "       'fBodyGyro-bandsEnergy()-33,40', 'fBodyGyro-bandsEnergy()-41,48',\n",
       "       'fBodyGyro-bandsEnergy()-49,56', 'fBodyGyro-bandsEnergy()-57,64',\n",
       "       'fBodyGyro-bandsEnergy()-1,16', 'fBodyGyro-bandsEnergy()-17,32',\n",
       "       'fBodyGyro-bandsEnergy()-33,48', 'fBodyGyro-bandsEnergy()-49,64',\n",
       "       'fBodyGyro-bandsEnergy()-1,24', 'fBodyGyro-bandsEnergy()-25,48',\n",
       "       'fBodyGyro-bandsEnergy()-1,8.1', 'fBodyGyro-bandsEnergy()-9,16.1',\n",
       "       'fBodyGyro-bandsEnergy()-17,24.1',\n",
       "       'fBodyGyro-bandsEnergy()-25,32.1',\n",
       "       'fBodyGyro-bandsEnergy()-33,40.1',\n",
       "       'fBodyGyro-bandsEnergy()-41,48.1',\n",
       "       'fBodyGyro-bandsEnergy()-49,56.1',\n",
       "       'fBodyGyro-bandsEnergy()-57,64.1',\n",
       "       'fBodyGyro-bandsEnergy()-1,16.1',\n",
       "       'fBodyGyro-bandsEnergy()-17,32.1',\n",
       "       'fBodyGyro-bandsEnergy()-33,48.1',\n",
       "       'fBodyGyro-bandsEnergy()-49,64.1',\n",
       "       'fBodyGyro-bandsEnergy()-1,24.1',\n",
       "       'fBodyGyro-bandsEnergy()-25,48.1', 'fBodyGyro-bandsEnergy()-1,8.2',\n",
       "       'fBodyGyro-bandsEnergy()-9,16.2',\n",
       "       'fBodyGyro-bandsEnergy()-17,24.2',\n",
       "       'fBodyGyro-bandsEnergy()-25,32.2',\n",
       "       'fBodyGyro-bandsEnergy()-33,40.2',\n",
       "       'fBodyGyro-bandsEnergy()-41,48.2',\n",
       "       'fBodyGyro-bandsEnergy()-49,56.2',\n",
       "       'fBodyGyro-bandsEnergy()-57,64.2',\n",
       "       'fBodyGyro-bandsEnergy()-1,16.2',\n",
       "       'fBodyGyro-bandsEnergy()-17,32.2',\n",
       "       'fBodyGyro-bandsEnergy()-33,48.2',\n",
       "       'fBodyGyro-bandsEnergy()-49,64.2',\n",
       "       'fBodyGyro-bandsEnergy()-1,24.2',\n",
       "       'fBodyGyro-bandsEnergy()-25,48.2', 'fBodyAccMag-mean()',\n",
       "       'fBodyAccMag-std()', 'fBodyAccMag-mad()', 'fBodyAccMag-max()',\n",
       "       'fBodyAccMag-min()', 'fBodyAccMag-sma()', 'fBodyAccMag-energy()',\n",
       "       'fBodyAccMag-iqr()', 'fBodyAccMag-entropy()',\n",
       "       'fBodyAccMag-maxInds', 'fBodyAccMag-meanFreq()',\n",
       "       'fBodyAccMag-skewness()', 'fBodyAccMag-kurtosis()',\n",
       "       'fBodyBodyAccJerkMag-mean()', 'fBodyBodyAccJerkMag-std()',\n",
       "       'fBodyBodyAccJerkMag-mad()', 'fBodyBodyAccJerkMag-max()',\n",
       "       'fBodyBodyAccJerkMag-min()', 'fBodyBodyAccJerkMag-sma()',\n",
       "       'fBodyBodyAccJerkMag-energy()', 'fBodyBodyAccJerkMag-iqr()',\n",
       "       'fBodyBodyAccJerkMag-entropy()', 'fBodyBodyAccJerkMag-maxInds',\n",
       "       'fBodyBodyAccJerkMag-meanFreq()', 'fBodyBodyAccJerkMag-skewness()',\n",
       "       'fBodyBodyAccJerkMag-kurtosis()', 'fBodyBodyGyroMag-mean()',\n",
       "       'fBodyBodyGyroMag-std()', 'fBodyBodyGyroMag-mad()',\n",
       "       'fBodyBodyGyroMag-max()', 'fBodyBodyGyroMag-min()',\n",
       "       'fBodyBodyGyroMag-sma()', 'fBodyBodyGyroMag-energy()',\n",
       "       'fBodyBodyGyroMag-iqr()', 'fBodyBodyGyroMag-entropy()',\n",
       "       'fBodyBodyGyroMag-maxInds', 'fBodyBodyGyroMag-meanFreq()',\n",
       "       'fBodyBodyGyroMag-skewness()', 'fBodyBodyGyroMag-kurtosis()',\n",
       "       'fBodyBodyGyroJerkMag-mean()', 'fBodyBodyGyroJerkMag-std()',\n",
       "       'fBodyBodyGyroJerkMag-mad()', 'fBodyBodyGyroJerkMag-max()',\n",
       "       'fBodyBodyGyroJerkMag-min()', 'fBodyBodyGyroJerkMag-sma()',\n",
       "       'fBodyBodyGyroJerkMag-energy()', 'fBodyBodyGyroJerkMag-iqr()',\n",
       "       'fBodyBodyGyroJerkMag-entropy()', 'fBodyBodyGyroJerkMag-maxInds',\n",
       "       'fBodyBodyGyroJerkMag-meanFreq()',\n",
       "       'fBodyBodyGyroJerkMag-skewness()',\n",
       "       'fBodyBodyGyroJerkMag-kurtosis()', 'angle(tBodyAccMean,gravity)',\n",
       "       'angle(tBodyAccJerkMean),gravityMean)',\n",
       "       'angle(tBodyGyroMean,gravityMean)',\n",
       "       'angle(tBodyGyroJerkMean,gravityMean)', 'angle(X,gravityMean)',\n",
       "       'angle(Y,gravityMean)', 'angle(Z,gravityMean)', 'subject',\n",
       "       'Activity'], dtype=object)"
      ]
     },
     "execution_count": 34,
     "metadata": {},
     "output_type": "execute_result"
    }
   ],
   "source": [
    "train.columns.values"
   ]
  },
  {
   "cell_type": "code",
   "execution_count": 4,
   "metadata": {
    "collapsed": false
   },
   "outputs": [
    {
     "data": {
      "text/plain": [
       "<matplotlib.collections.PathCollection at 0x7f28b7275518>"
      ]
     },
     "execution_count": 4,
     "metadata": {},
     "output_type": "execute_result"
    },
    {
     "data": {
      "image/png": "[encoded data removed]",
      "text/plain": [
       "<Figure size 432x288 with 1 Axes>"
      ]
     },
     "metadata": {},
     "output_type": "display_data"
    }
   ],
   "source": [
    "x_and_y=train.iloc[:,1:3]\n",
    "plt.scatter(x_and_y['tBodyAcc-mean()-Y'], x_and_y['tBodyAcc-mean()-Z'], s=0.1)"
   ]
  },
  {
   "cell_type": "code",
   "execution_count": 5,
   "metadata": {
    "collapsed": false
   },
   "outputs": [],
   "source": [
    "subj1=train.loc[train.subject==1]"
   ]
  },
  {
   "cell_type": "code",
   "execution_count": 6,
   "metadata": {
    "collapsed": false
   },
   "outputs": [
    {
     "data": {
      "image/png": "[encoded data removed]",
      "text/plain": [
       "<Figure size 432x288 with 1 Axes>"
      ]
     },
     "metadata": {},
     "output_type": "display_data"
    }
   ],
   "source": [
    "plt.plot(subj1[\"tBodyAcc-mean()-X\"])\n",
    "plt.plot(subj1[\"tBodyAcc-mean()-Y\"])\n",
    "plt.plot(subj1[\"tBodyAcc-mean()-Z\"])\n",
    "plt.show()"
   ]
  },
  {
   "cell_type": "markdown",
   "metadata": {},
   "source": [
    "## K Nearest Neighbors"
   ]
  },
  {
   "cell_type": "code",
   "execution_count": 17,
   "metadata": {
    "collapsed": false
   },
   "outputs": [
    {
     "data": {
      "text/plain": [
       "KNeighborsClassifier(algorithm='auto', leaf_size=30, metric='minkowski',\n",
       "           metric_params=None, n_jobs=1, n_neighbors=5, p=2,\n",
       "           weights='uniform')"
      ]
     },
     "execution_count": 17,
     "metadata": {},
     "output_type": "execute_result"
    }
   ],
   "source": [
    "from sklearn import linear_model\n",
    "from sklearn.neighbors import KNeighborsClassifier\n",
    "# lasso_model = linear_model.Lasso.path()\n",
    "# print(train.drop('Activity',1))\n",
    "classifier=KNeighborsClassifier(n_neighbors=5)\n",
    "classifier.fit(train.drop('Activity',1),train.Activity)\n",
    "                                 \n",
    "# KNeighborsClassifier(train.drop('Activity',1), sk.preprocessing.LabelEncoder(train.Activity))"
   ]
  },
  {
   "cell_type": "code",
   "execution_count": 36,
   "metadata": {
    "collapsed": false
   },
   "outputs": [
    {
     "name": "stdout",
     "output_type": "stream",
     "text": [
      "2\n",
      "5\n",
      "10\n",
      "15\n",
      "25\n",
      "50\n",
      "75\n",
      "100\n"
     ]
    },
    {
     "data": {
      "text/plain": [
       "[<matplotlib.lines.Line2D at 0x7f28b0348c50>]"
      ]
     },
     "execution_count": 36,
     "metadata": {},
     "output_type": "execute_result"
    },
    {
     "data": {
      "image/png": "[encoded data removed]",
      "text/plain": [
       "<Figure size 432x288 with 1 Axes>"
      ]
     },
     "metadata": {},
     "output_type": "display_data"
    }
   ],
   "source": [
    "all_correct_values = [2, 5, 10, 15, 25, 50, 75, 100]\n",
    "all_correct_rates = []\n",
    "for i in all_correct_values:\n",
    "    print(i)\n",
    "    classifier_i = KNeighborsClassifier(n_neighbors=i)\n",
    "    classifier_i.fit(train.drop('Activity',1),train.Activity)\n",
    "    predicted=classifier_i.predict(test.drop('Activity', 1))\n",
    "    correct=predicted==test.Activity\n",
    "    all_correct_rates.append(sum(correct)/len(correct))\n",
    "plt.plot(all_correct_values, all_correct_rates)\n"
   ]
  },
  {
   "cell_type": "code",
   "execution_count": 16,
   "metadata": {
    "collapsed": true
   },
   "outputs": [],
   "source": [
    "predicted=classifier.predict(test.drop('Activity',1))\n"
   ]
  },
  {
   "cell_type": "code",
   "execution_count": 24,
   "metadata": {
    "collapsed": false
   },
   "outputs": [
    {
     "data": {
      "text/plain": [
       "0.8096369189005769"
      ]
     },
     "execution_count": 24,
     "metadata": {},
     "output_type": "execute_result"
    }
   ],
   "source": [
    "correct=predicted==test.Activity\n",
    "sum(correct)/len(correct)"
   ]
  },
  {
   "cell_type": "code",
   "execution_count": 25,
   "metadata": {
    "collapsed": false
   },
   "outputs": [
    {
     "data": {
      "text/plain": [
       "2947"
      ]
     },
     "execution_count": 25,
     "metadata": {},
     "output_type": "execute_result"
    }
   ],
   "source": [
    "len(test.Activity)"
   ]
  },
  {
   "cell_type": "markdown",
   "metadata": {
    "collapsed": true
   },
   "source": [
    "## Performing LDA"
   ]
  },
  {
   "cell_type": "code",
   "execution_count": 15,
   "metadata": {
    "collapsed": true
   },
   "outputs": [],
   "source": [
    "from sklearn.discriminant_analysis import LinearDiscriminantAnalysis"
   ]
  },
  {
   "cell_type": "code",
   "execution_count": 10,
   "metadata": {
    "collapsed": false
   },
   "outputs": [
    {
     "name": "stderr",
     "output_type": "stream",
     "text": [
      "/home/matt/Documents/data-science/Data-Science-Final/env/lib/python3.6/site-packages/sklearn/discriminant_analysis.py:388: UserWarning: Variables are collinear.\n",
      "  warnings.warn(\"Variables are collinear.\")\n"
     ]
    },
    {
     "data": {
      "text/plain": [
       "LinearDiscriminantAnalysis(n_components=2, priors=None, shrinkage=None,\n",
       "              solver='svd', store_covariance=False, tol=0.0001)"
      ]
     },
     "execution_count": 10,
     "metadata": {},
     "output_type": "execute_result"
    }
   ],
   "source": [
    "lda = LinearDiscriminantAnalysis(n_components=2)\n",
    "lda.fit(train.drop('Activity',1), train.Activity)"
   ]
  },
  {
   "cell_type": "code",
   "execution_count": 13,
   "metadata": {
    "collapsed": false
   },
   "outputs": [
    {
     "data": {
      "text/plain": [
       "0.9643705463182898"
      ]
     },
     "execution_count": 13,
     "metadata": {},
     "output_type": "execute_result"
    }
   ],
   "source": [
    "predicted=lda.predict(test.drop('Activity',1))\n",
    "correct=predicted==test.Activity\n",
    "sum(correct)/len(correct)"
   ]
  },
  {
   "cell_type": "code",
   "execution_count": 33,
   "metadata": {
    "collapsed": false
   },
   "outputs": [
    {
     "name": "stderr",
     "output_type": "stream",
     "text": [
      "/home/matt/Documents/data-science/Data-Science-Final/env/lib/python3.6/site-packages/sklearn/discriminant_analysis.py:388: UserWarning: Variables are collinear.\n",
      "  warnings.warn(\"Variables are collinear.\")\n"
     ]
    }
   ],
   "source": [
    "predicted_train = lda.predict(train.drop('Activity', 1))\n",
    "transform_points = lda.fit_transform(train.drop('Activity', 1), train.Activity)\n",
    "transform_data = pd.DataFrame(transform_points)\n",
    "transform_data.columns = ['Component1', 'Component2']\n",
    "transform_data['class'] = np.asarray(predicted_train)\n"
   ]
  },
  {
   "cell_type": "code",
   "execution_count": null,
   "metadata": {
    "collapsed": false
   },
   "outputs": [],
   "source": []
  },
  {
   "cell_type": "code",
   "execution_count": 7,
   "metadata": {
    "collapsed": false
   },
   "outputs": [
    {
     "ename": "NameError",
     "evalue": "name 'transform_data' is not defined",
     "output_type": "error",
     "traceback": [
      "\u001b[0;31m---------------------------------------------------------------------------\u001b[0m",
      "\u001b[0;31mNameError\u001b[0m                                 Traceback (most recent call last)",
      "\u001b[0;32m<ipython-input-7-560951dff541>\u001b[0m in \u001b[0;36m<module>\u001b[0;34m()\u001b[0m\n\u001b[0;32m----> 1\u001b[0;31m \u001b[0msns\u001b[0m\u001b[0;34m.\u001b[0m\u001b[0mlmplot\u001b[0m\u001b[0;34m(\u001b[0m \u001b[0mx\u001b[0m\u001b[0;34m=\u001b[0m\u001b[0;34m\"Component1\"\u001b[0m\u001b[0;34m,\u001b[0m \u001b[0my\u001b[0m\u001b[0;34m=\u001b[0m\u001b[0;34m\"Component2\"\u001b[0m\u001b[0;34m,\u001b[0m \u001b[0mdata\u001b[0m\u001b[0;34m=\u001b[0m\u001b[0mtransform_data\u001b[0m\u001b[0;34m,\u001b[0m \u001b[0mfit_reg\u001b[0m\u001b[0;34m=\u001b[0m\u001b[0;32mFalse\u001b[0m\u001b[0;34m,\u001b[0m \u001b[0mhue\u001b[0m\u001b[0;34m=\u001b[0m\u001b[0;34m'class'\u001b[0m\u001b[0;34m,\u001b[0m \u001b[0mlegend\u001b[0m\u001b[0;34m=\u001b[0m\u001b[0;32mTrue\u001b[0m\u001b[0;34m,\u001b[0m \u001b[0mmarkers\u001b[0m\u001b[0;34m=\u001b[0m\u001b[0;34m[\u001b[0m\u001b[0;34m\"o\"\u001b[0m\u001b[0;34m,\u001b[0m \u001b[0;34m\"x\"\u001b[0m\u001b[0;34m,\u001b[0m \u001b[0;34m\".\"\u001b[0m\u001b[0;34m,\u001b[0m \u001b[0;34m\"^\"\u001b[0m\u001b[0;34m,\u001b[0m \u001b[0;34m\"*\"\u001b[0m\u001b[0;34m,\u001b[0m \u001b[0;34m\"p\"\u001b[0m\u001b[0;34m]\u001b[0m\u001b[0;34m,\u001b[0m \u001b[0mscatter_kws\u001b[0m\u001b[0;34m=\u001b[0m\u001b[0;34m{\u001b[0m\u001b[0;34m's'\u001b[0m\u001b[0;34m:\u001b[0m \u001b[0;36m10\u001b[0m\u001b[0;34m}\u001b[0m\u001b[0;34m)\u001b[0m\u001b[0;34m\u001b[0m\u001b[0m\n\u001b[0m",
      "\u001b[0;31mNameError\u001b[0m: name 'transform_data' is not defined"
     ]
    }
   ],
   "source": [
    "sns.lmplot( x=\"Component1\", y=\"Component2\", data=transform_data, fit_reg=False, hue='class', legend=True, markers=[\"o\", \"x\", \".\", \"^\", \"*\", \"p\"], scatter_kws={'s': 10})\n"
   ]
  },
  {
   "cell_type": "markdown",
   "metadata": {},
   "source": [
    "## Plotting LDA Boundaries?"
   ]
  },
  {
   "cell_type": "code",
   "execution_count": null,
   "metadata": {
    "collapsed": true
   },
   "outputs": [],
   "source": [
    "def plot_lda_boundaries(lda, X, Y):\n",
    "    "
   ]
  },
  {
   "cell_type": "markdown",
   "metadata": {},
   "source": [
    "## Using the first three variables to perform kNN"
   ]
  },
  {
   "cell_type": "code",
   "execution_count": 27,
   "metadata": {
    "collapsed": false
   },
   "outputs": [],
   "source": [
    "acc_vars = train.iloc[:,0:3]"
   ]
  },
  {
   "cell_type": "code",
   "execution_count": 28,
   "metadata": {
    "collapsed": false
   },
   "outputs": [
    {
     "data": {
      "text/plain": [
       "KNeighborsClassifier(algorithm='auto', leaf_size=30, metric='minkowski',\n",
       "           metric_params=None, n_jobs=1, n_neighbors=100, p=2,\n",
       "           weights='uniform')"
      ]
     },
     "execution_count": 28,
     "metadata": {},
     "output_type": "execute_result"
    }
   ],
   "source": [
    "classifier=KNeighborsClassifier(n_neighbors=100)\n",
    "classifier.fit(acc_vars, train.Activity)\n"
   ]
  },
  {
   "cell_type": "code",
   "execution_count": 29,
   "metadata": {
    "collapsed": false
   },
   "outputs": [],
   "source": [
    "test_vars = test.iloc[:,0:3]\n",
    "\n",
    "predicted=classifier.predict(test_vars)"
   ]
  },
  {
   "cell_type": "code",
   "execution_count": 30,
   "metadata": {
    "collapsed": false
   },
   "outputs": [
    {
     "data": {
      "text/plain": [
       "0.4770953512046149"
      ]
     },
     "execution_count": 30,
     "metadata": {},
     "output_type": "execute_result"
    }
   ],
   "source": [
    "correct=predicted==test.Activity\n",
    "sum(correct)/len(correct)"
   ]
  },
  {
   "cell_type": "markdown",
   "metadata": {},
   "source": [
    "## Using just mean accel data to perform LDA"
   ]
  },
  {
   "cell_type": "code",
   "execution_count": 37,
   "metadata": {
    "collapsed": false
   },
   "outputs": [
    {
     "data": {
      "text/plain": [
       "LinearDiscriminantAnalysis(n_components=2, priors=None, shrinkage=None,\n",
       "              solver='svd', store_covariance=False, tol=0.0001)"
      ]
     },
     "execution_count": 37,
     "metadata": {},
     "output_type": "execute_result"
    }
   ],
   "source": [
    "lda = LinearDiscriminantAnalysis(n_components=2)\n",
    "lda.fit(acc_vars, train.Activity)"
   ]
  },
  {
   "cell_type": "code",
   "execution_count": 38,
   "metadata": {
    "collapsed": false
   },
   "outputs": [
    {
     "data": {
      "text/plain": [
       "0.21954530030539532"
      ]
     },
     "execution_count": 38,
     "metadata": {},
     "output_type": "execute_result"
    }
   ],
   "source": [
    "predicted=lda.predict(test.iloc[:,0:3])\n",
    "correct=predicted==test.Activity\n",
    "sum(correct)/len(correct)"
   ]
  },
  {
   "cell_type": "code",
   "execution_count": 41,
   "metadata": {
    "collapsed": false
   },
   "outputs": [
    {
     "data": {
      "text/plain": [
       "<seaborn.axisgrid.FacetGrid at 0x7f28b01115f8>"
      ]
     },
     "execution_count": 41,
     "metadata": {},
     "output_type": "execute_result"
    },
    {
     "data": {
      "image/png": "[encoded data removed]",
      "text/plain": [
       "<Figure size 515.875x360 with 1 Axes>"
      ]
     },
     "metadata": {},
     "output_type": "display_data"
    }
   ],
   "source": [
    "predicted_train = lda.predict(acc_vars)\n",
    "transform_points = lda.fit_transform(acc_vars, train.Activity)\n",
    "transform_data = pd.DataFrame(transform_points)\n",
    "transform_data.columns = ['Component1', 'Component2']\n",
    "transform_data['class'] = np.asarray(predicted_train)\n",
    "sns.lmplot( x=\"Component1\", y=\"Component2\", data=transform_data, fit_reg=False, hue='class', legend=True, scatter_kws={'s': 10})\n"
   ]
  },
  {
   "cell_type": "code",
   "execution_count": null,
   "metadata": {
    "collapsed": true
   },
   "outputs": [],
   "source": []
  }
 ],
 "metadata": {
  "kernelspec": {
   "display_name": "datasci",
   "language": "python",
   "name": "datasci"
  },
  "language_info": {
   "codemirror_mode": {
    "name": "ipython",
    "version": 3
   },
   "file_extension": ".py",
   "mimetype": "text/x-python",
   "name": "python",
   "nbconvert_exporter": "python",
   "pygments_lexer": "ipython3",
   "version": "3.6.4"
  }
 },
 "nbformat": 4,
 "nbformat_minor": 2
}
