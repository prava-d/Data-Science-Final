{
 "cells": [
  {
   "cell_type": "markdown",
   "metadata": {},
   "source": [
    "## Importing/Cleaning Data"
   ]
  },
  {
   "cell_type": "code",
   "execution_count": 6,
   "metadata": {
    "collapsed": false,
    "deletable": true,
    "editable": true,
    "slideshow": {
     "slide_type": "skip"
    }
   },
   "outputs": [],
   "source": [
    "import numpy as np\n",
    "import pandas as pd\n",
    "import seaborn as sns\n",
    "import matplotlib.pyplot as plt\n",
    "import sklearn as sk\n",
    "\n",
    "# Module level imports\n",
    "from sklearn import linear_model\n",
    "from sklearn.neighbors import KNeighborsClassifier\n",
    "from sklearn.discriminant_analysis import LinearDiscriminantAnalysis"
   ]
  },
  {
   "cell_type": "code",
   "execution_count": 7,
   "metadata": {
    "collapsed": false,
    "deletable": true,
    "editable": true,
    "slideshow": {
     "slide_type": "skip"
    }
   },
   "outputs": [],
   "source": [
    "train = pd.read_csv(\"./data/train.csv\")  \n",
    "test = pd.read_csv(\"./data/test.csv\")"
   ]
  },
  {
   "cell_type": "code",
   "execution_count": 8,
   "metadata": {
    "collapsed": false,
    "slideshow": {
     "slide_type": "skip"
    }
   },
   "outputs": [],
   "source": [
    "subj1=train.loc[train.subject==1]"
   ]
  },
  {
   "cell_type": "markdown",
   "metadata": {},
   "source": [
    "## Function definitions"
   ]
  },
  {
   "cell_type": "code",
   "execution_count": 22,
   "metadata": {
    "collapsed": true
   },
   "outputs": [],
   "source": [
    "def get_correct_rate(X, Y, classifier):\n",
    "    \"\"\"\n",
    "    Returns the correct rate of a given pre-trained classifier.\n",
    "    \"\"\"\n",
    "    prediction = classifier.predict(X)\n",
    "    correct_list=prediction==Y\n",
    "    return sum(correct_list)/len(correct_list)\n",
    "\n",
    "def knn_fit(X, Y, X_test, Y_test, k_list):\n",
    "    \"\"\"\n",
    "    Returns the correct prediction rates of kNN models for the given values of K.\n",
    "    \"\"\"\n",
    "    correct_rates = []\n",
    "    for k in k_list:\n",
    "        k_classifier = KNeighborsClassifier(n_neighbors=k)\n",
    "        k_classifier.fit(X, Y)\n",
    "        correct_rates.append(get_correct_rate(X_test, Y_test, k_classifier))\n",
    "    return correct_rates"
   ]
  },
  {
   "cell_type": "markdown",
   "metadata": {
    "slideshow": {
     "slide_type": "slide"
    }
   },
   "source": [
    "## K Nearest Neighbors\n",
    "\n",
    "First, we use kNN to predict the subject's movement based on all of the predictors."
   ]
  },
  {
   "cell_type": "code",
   "execution_count": 23,
   "metadata": {
    "collapsed": false,
    "slideshow": {
     "slide_type": "skip"
    }
   },
   "outputs": [
    {
     "data": {
      "text/plain": [
       "KNeighborsClassifier(algorithm='auto', leaf_size=30, metric='minkowski',\n",
       "           metric_params=None, n_jobs=1, n_neighbors=5, p=2,\n",
       "           weights='uniform')"
      ]
     },
     "execution_count": 23,
     "metadata": {},
     "output_type": "execute_result"
    }
   ],
   "source": [
    "classifier=KNeighborsClassifier(n_neighbors=5)\n",
    "classifier.fit(train.drop('Activity',1),train.Activity)\n",
    "                                "
   ]
  },
  {
   "cell_type": "code",
   "execution_count": 31,
   "metadata": {
    "collapsed": false,
    "slideshow": {
     "slide_type": "skip"
    }
   },
   "outputs": [],
   "source": [
    "k_vals = [2, 5, 10, 15, 25, 50, 75, 100]\n",
    "correct_rates = knn_fit(train.drop('Activity', 1), train.Activity, test.drop('Activity', 1), test.Activity, k_vals)\n"
   ]
  },
  {
   "cell_type": "code",
   "execution_count": 34,
   "metadata": {
    "collapsed": false,
    "slideshow": {
     "slide_type": "slide"
    }
   },
   "outputs": [
    {
     "name": "stdout",
     "output_type": "stream",
     "text": [
      "Maximum success rate: 81.7%\n",
      "Optimal value of k: 10\n"
     ]
    }
   ],
   "source": [
    "print('Maximum success rate:', \"{0:.1f}%\".format(100*max(correct_rates)))\n",
    "print('Optimal value of k:', k_vals[correct_rates.index(max(correct_rates))])"
   ]
  },
  {
   "cell_type": "markdown",
   "metadata": {
    "collapsed": true,
    "slideshow": {
     "slide_type": "slide"
    }
   },
   "source": [
    "## Performing LDA\n",
    "\n",
    "Next, we use Linear Discriminant Analysis to determine the activity based on the entire set of predictors."
   ]
  },
  {
   "cell_type": "code",
   "execution_count": 26,
   "metadata": {
    "collapsed": false,
    "slideshow": {
     "slide_type": "skip"
    }
   },
   "outputs": [
    {
     "name": "stderr",
     "output_type": "stream",
     "text": [
      "/home/matt/Documents/data-science/Data-Science-Final/env/lib/python3.6/site-packages/sklearn/discriminant_analysis.py:388: UserWarning: Variables are collinear.\n",
      "  warnings.warn(\"Variables are collinear.\")\n"
     ]
    },
    {
     "data": {
      "text/plain": [
       "LinearDiscriminantAnalysis(n_components=2, priors=None, shrinkage=None,\n",
       "              solver='svd', store_covariance=False, tol=0.0001)"
      ]
     },
     "execution_count": 26,
     "metadata": {},
     "output_type": "execute_result"
    }
   ],
   "source": [
    "lda = LinearDiscriminantAnalysis(n_components=2)\n",
    "lda.fit(train.drop('Activity',1), train.Activity)"
   ]
  },
  {
   "cell_type": "code",
   "execution_count": 35,
   "metadata": {
    "collapsed": false,
    "slideshow": {
     "slide_type": "slide"
    }
   },
   "outputs": [
    {
     "name": "stdout",
     "output_type": "stream",
     "text": [
      "LDA correct rate: 96.4%\n"
     ]
    }
   ],
   "source": [
    "lda_correct = get_correct_rate(test.drop('Activity', 1), test.Activity, lda)\n",
    "print(\"LDA correct rate:\", \"{0:.1f}%\".format(lda_correct*100))"
   ]
  },
  {
   "cell_type": "markdown",
   "metadata": {
    "slideshow": {
     "slide_type": "subslide"
    }
   },
   "source": [
    "This is a very high correct classification rate - however, it doesn't show the whole story of the predictors. Let's plot the LDA components of the variables."
   ]
  },
  {
   "cell_type": "code",
   "execution_count": 37,
   "metadata": {
    "collapsed": false,
    "slideshow": {
     "slide_type": "slide"
    }
   },
   "outputs": [
    {
     "name": "stderr",
     "output_type": "stream",
     "text": [
      "/home/matt/Documents/data-science/Data-Science-Final/env/lib/python3.6/site-packages/sklearn/discriminant_analysis.py:388: UserWarning: Variables are collinear.\n",
      "  warnings.warn(\"Variables are collinear.\")\n"
     ]
    },
    {
     "data": {
      "text/plain": [
       "<seaborn.axisgrid.FacetGrid at 0x7fda961aec18>"
      ]
     },
     "execution_count": 37,
     "metadata": {},
     "output_type": "execute_result"
    },
    {
     "data": {
      "image/png": "[encoded data removed]",
      "text/plain": [
       "<Figure size 515.875x360 with 1 Axes>"
      ]
     },
     "metadata": {},
     "output_type": "display_data"
    }
   ],
   "source": [
    "predicted_train = lda.predict(train.drop('Activity', 1))\n",
    "transform_points = lda.fit_transform(train.drop('Activity', 1), train.Activity)\n",
    "transform_data = pd.DataFrame(transform_points)\n",
    "transform_data.columns = ['Component1', 'Component2']\n",
    "transform_data['class'] = np.asarray(predicted_train)\n",
    "sns.lmplot( x=\"Component1\", y=\"Component2\", data=transform_data, fit_reg=False, hue='class', legend=True, markers=[\"o\", \"x\", \".\", \"^\", \"*\", \"p\"], scatter_kws={'s': 10})\n"
   ]
  },
  {
   "cell_type": "markdown",
   "metadata": {
    "slideshow": {
     "slide_type": "notes"
    }
   },
   "source": [
    "Because the variables are collinear, we get a very high correct prediction rate, but the LDA coefficients provided are less interpretable. "
   ]
  },
  {
   "cell_type": "markdown",
   "metadata": {
    "slideshow": {
     "slide_type": "slide"
    }
   },
   "source": [
    "## Predicting Activity with Data Subsets\n",
    "\n",
    "In order to reuct collinearity, it makes sense to find a subset of the data to use for activity prediction. We first try the simple method of just selecting the mean predictors, starting with kNN."
   ]
  },
  {
   "cell_type": "code",
   "execution_count": 43,
   "metadata": {
    "collapsed": false,
    "slideshow": {
     "slide_type": "skip"
    }
   },
   "outputs": [],
   "source": [
    "mean_acc_train = train.iloc[:,0:3]\n",
    "mean_acc_test = test.iloc[:,0:3]"
   ]
  },
  {
   "cell_type": "code",
   "execution_count": 44,
   "metadata": {
    "collapsed": false,
    "slideshow": {
     "slide_type": "skip"
    }
   },
   "outputs": [
    {
     "data": {
      "text/plain": [
       "KNeighborsClassifier(algorithm='auto', leaf_size=30, metric='minkowski',\n",
       "           metric_params=None, n_jobs=1, n_neighbors=100, p=2,\n",
       "           weights='uniform')"
      ]
     },
     "execution_count": 44,
     "metadata": {},
     "output_type": "execute_result"
    }
   ],
   "source": [
    "classifier=KNeighborsClassifier(n_neighbors=100)\n",
    "classifier.fit(mean_acc_train, train.Activity)\n"
   ]
  },
  {
   "cell_type": "code",
   "execution_count": 45,
   "metadata": {
    "collapsed": false,
    "slideshow": {
     "slide_type": "skip"
    }
   },
   "outputs": [],
   "source": [
    "correct_list = knn_fit(mean_acc_train, train.Activity, mean_acc_test, test.Activity, k_vals)"
   ]
  },
  {
   "cell_type": "code",
   "execution_count": 47,
   "metadata": {
    "collapsed": false
   },
   "outputs": [
    {
     "name": "stdout",
     "output_type": "stream",
     "text": [
      "Maximum success rate: 48.3%\n",
      "Optimal value of k: 75\n"
     ]
    }
   ],
   "source": [
    "print('Maximum success rate:', \"{0:.1f}%\".format(100*max(correct_list)))\n",
    "print('Optimal value of k:', k_vals[correct_list.index(max(correct_list))])"
   ]
  },
  {
   "cell_type": "code",
   "execution_count": 48,
   "metadata": {
    "collapsed": false
   },
   "outputs": [
    {
     "data": {
      "image/png": "[encoded data removed]",
      "text/plain": [
       "<Figure size 432x288 with 1 Axes>"
      ]
     },
     "metadata": {},
     "output_type": "display_data"
    }
   ],
   "source": [
    "plt.plot(k_vals, correct_list)\n",
    "plt.show()"
   ]
  },
  {
   "cell_type": "markdown",
   "metadata": {
    "slideshow": {
     "slide_type": "slide"
    }
   },
   "source": [
    "## Performing LDA with mean accel data\n",
    "\n",
    "Next, we perform LDA with this mean acceleration predictor subset."
   ]
  },
  {
   "cell_type": "code",
   "execution_count": 51,
   "metadata": {
    "collapsed": false,
    "slideshow": {
     "slide_type": "skip"
    }
   },
   "outputs": [
    {
     "data": {
      "text/plain": [
       "LinearDiscriminantAnalysis(n_components=2, priors=None, shrinkage=None,\n",
       "              solver='svd', store_covariance=False, tol=0.0001)"
      ]
     },
     "execution_count": 51,
     "metadata": {},
     "output_type": "execute_result"
    }
   ],
   "source": [
    "lda = LinearDiscriminantAnalysis(n_components=2)\n",
    "lda.fit(mean_acc_train, train.Activity)"
   ]
  },
  {
   "cell_type": "code",
   "execution_count": 52,
   "metadata": {
    "collapsed": false,
    "slideshow": {
     "slide_type": "skip"
    }
   },
   "outputs": [
    {
     "name": "stdout",
     "output_type": "stream",
     "text": [
      "LDA correct rate: 22.0%\n"
     ]
    }
   ],
   "source": [
    "lda_correct = get_correct_rate(mean_acc_test, test.Activity, lda)\n",
    "print(\"LDA correct rate:\", \"{0:.1f}%\".format(lda_correct*100))"
   ]
  },
  {
   "cell_type": "code",
   "execution_count": 55,
   "metadata": {
    "collapsed": false,
    "slideshow": {
     "slide_type": "slide"
    }
   },
   "outputs": [
    {
     "data": {
      "text/plain": [
       "<seaborn.axisgrid.FacetGrid at 0x7fda95efe908>"
      ]
     },
     "execution_count": 55,
     "metadata": {},
     "output_type": "execute_result"
    },
    {
     "data": {
      "image/png": "[encoded data removed]",
      "text/plain": [
       "<Figure size 515.875x360 with 1 Axes>"
      ]
     },
     "metadata": {},
     "output_type": "display_data"
    }
   ],
   "source": [
    "predicted_train = lda.predict(mean_acc_train)\n",
    "transform_points = lda.fit_transform(mean_acc_train, train.Activity)\n",
    "transform_data = pd.DataFrame(transform_points)\n",
    "transform_data.columns = ['Component1', 'Component2']\n",
    "transform_data['class'] = np.asarray(predicted_train)\n",
    "sns.lmplot( x=\"Component1\", y=\"Component2\", data=transform_data, fit_reg=False, hue='class', legend=True, scatter_kws={'s': 10})\n"
   ]
  },
  {
   "cell_type": "markdown",
   "metadata": {
    "collapsed": true,
    "slideshow": {
     "slide_type": "subslide"
    }
   },
   "source": [
    "Here, we have reduced collinearity, but at the expense of greatly reducing model accuracy."
   ]
  },
  {
   "cell_type": "markdown",
   "metadata": {},
   "source": [
    "## Comparison of Predictors vs. Predictor Subsets"
   ]
  },
  {
   "cell_type": "code",
   "execution_count": 57,
   "metadata": {
    "collapsed": false
   },
   "outputs": [
    {
     "data": {
      "image/png": "[encoded data removed]",
      "text/plain": [
       "<Figure size 432x288 with 1 Axes>"
      ]
     },
     "metadata": {},
     "output_type": "display_data"
    }
   ],
   "source": [
    "plt.plot(k_vals, correct_rates)\n",
    "plt.plot(k_vals, correct_list)\n",
    "plt.legend(['All predictors', 'Predictor subset'])\n",
    "plt.show()"
   ]
  },
  {
   "cell_type": "code",
   "execution_count": null,
   "metadata": {
    "collapsed": true
   },
   "outputs": [],
   "source": []
  }
 ],
 "metadata": {
  "celltoolbar": "Slideshow",
  "kernelspec": {
   "display_name": "datasci",
   "language": "python",
   "name": "datasci"
  },
  "language_info": {
   "codemirror_mode": {
    "name": "ipython",
    "version": 3
   },
   "file_extension": ".py",
   "mimetype": "text/x-python",
   "name": "python",
   "nbconvert_exporter": "python",
   "pygments_lexer": "ipython3",
   "version": "3.6.4"
  }
 },
 "nbformat": 4,
 "nbformat_minor": 2
}
